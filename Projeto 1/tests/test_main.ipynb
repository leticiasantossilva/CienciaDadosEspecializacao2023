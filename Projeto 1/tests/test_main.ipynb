{
 "cells": [
  {
   "cell_type": "markdown",
   "id": "80f4548d-e0b0-4f13-a4d4-9970bbfcb2f3",
   "metadata": {},
   "source": [
    "# Módulo Principal"
   ]
  },
  {
   "cell_type": "code",
   "execution_count": 1,
   "id": "11a9c3da-4b79-42ab-8ae8-d423b7f83e13",
   "metadata": {
    "tags": []
   },
   "outputs": [],
   "source": [
    "# Importação dos módulos\n",
    "\n",
    "import test_es\n",
    "import test_proc\n"
   ]
  },
  {
   "cell_type": "code",
   "execution_count": 3,
   "id": "a42a99f3-b23a-42df-8683-4fa62aa21753",
   "metadata": {
    "tags": []
   },
   "outputs": [
    {
     "name": "stdin",
     "output_type": "stream",
     "text": [
      "Digite o número 1 que deseja operar:  2\n",
      "Digite o número 2 que deseja operar:  3\n",
      "Digite a operação que deseja realizar.\n",
      "Pressione + para adição;\n",
      "- para subtração;\n",
      "* para multiplicação;\n",
      "/ para divisão *\n"
     ]
    }
   ],
   "source": [
    "dados = test_es.leitora()"
   ]
  },
  {
   "cell_type": "code",
   "execution_count": 4,
   "id": "52316a83-9903-479d-93a8-fe4235067f72",
   "metadata": {
    "tags": []
   },
   "outputs": [
    {
     "data": {
      "text/plain": [
       "[[2.0, 3.0], '*']"
      ]
     },
     "execution_count": 4,
     "metadata": {},
     "output_type": "execute_result"
    }
   ],
   "source": [
    "dados"
   ]
  },
  {
   "cell_type": "code",
   "execution_count": 9,
   "id": "79660dde-5355-48a4-a018-be6c85647fdd",
   "metadata": {
    "tags": []
   },
   "outputs": [],
   "source": [
    "if dados[1] == \"+\":\n",
    "    resultado = test_proc.somadora(dados[0][0], dados[0][1])\n",
    "elif dados[1] == \"-\":\n",
    "    resultado = test_proc.diminuidora(dados[0][0], dados[0][1])\n",
    "elif dados[1] == \"*\":\n",
    "    resultado = test_proc.mult(dados[0][0], dados[0][1])\n",
    "else:\n",
    "    resultado = test_proc.div(dados[0][0], dados[0][1])\n",
    "\n"
   ]
  },
  {
   "cell_type": "code",
   "execution_count": 10,
   "id": "62c85e96-86c8-43e6-8116-a4f6528bc3b4",
   "metadata": {
    "tags": []
   },
   "outputs": [],
   "source": [
    "def escolhedora(dados: list) -> float:\n",
    "    \"\"\"Esta função escolhe a operação de acordo com o usuário\"\"\"\n",
    "    if dados[1] == \"+\":\n",
    "        resultado = test_proc.somadora(dados[0][0], dados[0][1])\n",
    "    elif dados[1] == \"-\":\n",
    "        resultado = test_proc.diminuidora(dados[0][0], dados[0][1])\n",
    "    elif dados[1] == \"*\":\n",
    "        resultado = test_proc.mult(dados[0][0], dados[0][1])\n",
    "    else:\n",
    "        resultado = test_proc.div(dados[0][0], dados[0][1])\n",
    "    return resultado\n"
   ]
  }
 ],
 "metadata": {
  "kernelspec": {
   "display_name": "Python 3 (ipykernel)",
   "language": "python",
   "name": "python3"
  },
  "language_info": {
   "codemirror_mode": {
    "name": "ipython",
    "version": 3
   },
   "file_extension": ".py",
   "mimetype": "text/x-python",
   "name": "python",
   "nbconvert_exporter": "python",
   "pygments_lexer": "ipython3",
   "version": "3.11.5"
  }
 },
 "nbformat": 4,
 "nbformat_minor": 5
}
