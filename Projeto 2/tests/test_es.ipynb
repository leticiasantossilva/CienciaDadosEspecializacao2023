{
 "cells": [
  {
   "cell_type": "markdown",
   "id": "b27b5049-b99f-49a7-b25f-2e7d6005c0b9",
   "metadata": {},
   "source": [
    "# Módulo de Entrada e Saída"
   ]
  },
  {
   "cell_type": "markdown",
   "id": "17cfbde7-9389-4b76-b83d-9a776a2bbac1",
   "metadata": {},
   "source": [
    "## Entrada de Dados"
   ]
  },
  {
   "cell_type": "code",
   "execution_count": 11,
   "id": "12b7b370-419e-4f3b-b058-38750b3ffa4d",
   "metadata": {
    "tags": []
   },
   "outputs": [
    {
     "name": "stdin",
     "output_type": "stream",
     "text": [
      "Qual o nome da empresa?  Itaú Unibanco\n"
     ]
    }
   ],
   "source": [
    "emissor = input(\"Qual o nome da empresa? \")"
   ]
  },
  {
   "cell_type": "code",
   "execution_count": 12,
   "id": "05d25830-0920-41cf-ab34-5ccbfcf8f583",
   "metadata": {
    "tags": []
   },
   "outputs": [
    {
     "name": "stdout",
     "output_type": "stream",
     "text": [
      "Itaú Unibanco\n"
     ]
    }
   ],
   "source": [
    "print(emissor)"
   ]
  },
  {
   "cell_type": "code",
   "execution_count": 27,
   "id": "5d8850c2-2f56-44a0-af22-9420ae8a363d",
   "metadata": {
    "tags": []
   },
   "outputs": [
    {
     "name": "stdin",
     "output_type": "stream",
     "text": [
      "Qual o nome da empresa?  1\n"
     ]
    }
   ],
   "source": [
    "# Definindo a função de entrada do nome da empresa emissora da ação\n",
    "\n",
    "def leitora_emissor():\n",
    "    \"\"\"Função para inserir a razão social da empresa emissora da ação\"\"\"\n",
    "    emissor = input(\"Qual o nome da empresa? \")\n",
    "    return emissor\n",
    "\n",
    "emissor = leitora_emissor()"
   ]
  },
  {
   "cell_type": "code",
   "execution_count": 21,
   "id": "7aba8e4f-a23a-4c9b-9d15-b0d08f8ecec7",
   "metadata": {
    "tags": []
   },
   "outputs": [
    {
     "name": "stdout",
     "output_type": "stream",
     "text": [
      "bradesco\n"
     ]
    }
   ],
   "source": [
    "print(emissor)"
   ]
  },
  {
   "cell_type": "code",
   "execution_count": 15,
   "id": "09d823bc-b81d-425b-a2ea-34cff718ef84",
   "metadata": {
    "tags": []
   },
   "outputs": [
    {
     "name": "stdin",
     "output_type": "stream",
     "text": [
      "Qual o código na B3?  bbdc3\n"
     ]
    }
   ],
   "source": [
    "codigo = input(\"Qual o código na B3? \")"
   ]
  },
  {
   "cell_type": "code",
   "execution_count": 16,
   "id": "9c550195-d292-4ca1-a720-0db4c8714b4c",
   "metadata": {
    "tags": []
   },
   "outputs": [
    {
     "name": "stdout",
     "output_type": "stream",
     "text": [
      "bbdc3\n"
     ]
    }
   ],
   "source": [
    "print(codigo)"
   ]
  },
  {
   "cell_type": "code",
   "execution_count": null,
   "id": "936727f8-695f-4e82-ba53-db3472415810",
   "metadata": {
    "tags": []
   },
   "outputs": [],
   "source": [
    "## Definido a função para pedir o código da ação na B3\n",
    "\n",
    "def leitora_codigo():\n",
    "    \"\"\"Função para inserir o código da ação na B3\"\"\"\n",
    "    codigo = input(\"Qual o código na B3? \")\n",
    "    return codigo\n",
    "\n",
    "codigo = leitora_codigo()"
   ]
  },
  {
   "cell_type": "code",
   "execution_count": 18,
   "id": "14034004-2544-4f44-b66c-e3289fba69c0",
   "metadata": {
    "tags": []
   },
   "outputs": [
    {
     "name": "stdout",
     "output_type": "stream",
     "text": [
      "BBDC4\n"
     ]
    }
   ],
   "source": [
    "print(codigo)"
   ]
  },
  {
   "cell_type": "code",
   "execution_count": 30,
   "id": "3ad31e3c-66cb-4848-9294-5938960e0a80",
   "metadata": {
    "tags": []
   },
   "outputs": [
    {
     "name": "stdin",
     "output_type": "stream",
     "text": [
      "Qual o nome da empresa?  b3\n",
      "Qual o código na B3?  b3sa3\n"
     ]
    }
   ],
   "source": [
    "# Reunindo as duas funções em uma só função de entrada\n",
    "\n",
    "def leitora():\n",
    "    \"\"\"Função recebe o nome da empresa emissora e o código da ação na B3\"\"\"\n",
    "    emissor = leitora_emissor()\n",
    "    codigo = leitora_codigo()\n",
    "    return [emissor, codigo]\n",
    "\n",
    "empresa = leitora()"
   ]
  },
  {
   "cell_type": "code",
   "execution_count": 24,
   "id": "edfc0bb7-0528-4cc9-9c3d-5a8a4dae6513",
   "metadata": {
    "tags": []
   },
   "outputs": [
    {
     "name": "stdout",
     "output_type": "stream",
     "text": [
      "['B3', 'B3SA3']\n"
     ]
    }
   ],
   "source": [
    "print(empresa)"
   ]
  },
  {
   "cell_type": "markdown",
   "id": "184ed7e5-6bbc-4d25-8b2d-d5ab1c98d7a8",
   "metadata": {},
   "source": [
    "## Funcionalidade de saída de dados"
   ]
  },
  {
   "cell_type": "code",
   "execution_count": 31,
   "id": "08d03168-8b4f-4092-807d-61584fed9795",
   "metadata": {
    "tags": []
   },
   "outputs": [
    {
     "name": "stdout",
     "output_type": "stream",
     "text": [
      "['b3', 'b3sa3']\n"
     ]
    }
   ],
   "source": [
    "print(empresa)"
   ]
  },
  {
   "cell_type": "code",
   "execution_count": 37,
   "id": "6c733081-405f-4655-a0bd-556dbe5a7ccf",
   "metadata": {
    "tags": []
   },
   "outputs": [],
   "source": [
    "def impressora(resultado: str):\n",
    "    \"\"\"Função que informará ao usuário que foi criado o objeto computacional que representa a ação\"\"\"\n",
    "    print(f\"A ação criada foi {resultado}.\")\n",
    "\n"
   ]
  },
  {
   "cell_type": "code",
   "execution_count": 38,
   "id": "f80ceb60-3bf8-4982-bf98-ea85f2e45106",
   "metadata": {
    "tags": []
   },
   "outputs": [
    {
     "name": "stdout",
     "output_type": "stream",
     "text": [
      "A ação criada foi ['b3', 'b3sa3'].\n"
     ]
    }
   ],
   "source": [
    "# Testes\n",
    "\n",
    "\n",
    "impressora(empresa)"
   ]
  },
  {
   "cell_type": "code",
   "execution_count": null,
   "id": "415da3b3-799c-4b9b-942c-370332a2d952",
   "metadata": {},
   "outputs": [],
   "source": []
  }
 ],
 "metadata": {
  "kernelspec": {
   "display_name": "Python 3 (ipykernel)",
   "language": "python",
   "name": "python3"
  },
  "language_info": {
   "codemirror_mode": {
    "name": "ipython",
    "version": 3
   },
   "file_extension": ".py",
   "mimetype": "text/x-python",
   "name": "python",
   "nbconvert_exporter": "python",
   "pygments_lexer": "ipython3",
   "version": "3.11.5"
  }
 },
 "nbformat": 4,
 "nbformat_minor": 5
}
